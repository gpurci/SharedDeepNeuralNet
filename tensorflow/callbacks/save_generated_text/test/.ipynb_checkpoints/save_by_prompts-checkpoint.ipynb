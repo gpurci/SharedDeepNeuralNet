{
 "cells": [
  {
   "cell_type": "markdown",
   "metadata": {},
   "source": [
    "# Setup"
   ]
  },
  {
   "cell_type": "code",
   "execution_count": 1,
   "metadata": {},
   "outputs": [
    {
     "name": "stderr",
     "output_type": "stream",
     "text": [
      "2025-06-10 15:34:13.676064: I tensorflow/core/util/port.cc:153] oneDNN custom operations are on. You may see slightly different numerical results due to floating-point round-off errors from different computation orders. To turn them off, set the environment variable `TF_ENABLE_ONEDNN_OPTS=0`.\n",
      "2025-06-10 15:34:13.683346: E external/local_xla/xla/stream_executor/cuda/cuda_fft.cc:477] Unable to register cuFFT factory: Attempting to register factory for plugin cuFFT when one has already been registered\n",
      "WARNING: All log messages before absl::InitializeLog() is called are written to STDERR\n",
      "E0000 00:00:1749558853.691946   45733 cuda_dnn.cc:8310] Unable to register cuDNN factory: Attempting to register factory for plugin cuDNN when one has already been registered\n",
      "E0000 00:00:1749558853.694439   45733 cuda_blas.cc:1418] Unable to register cuBLAS factory: Attempting to register factory for plugin cuBLAS when one has already been registered\n",
      "2025-06-10 15:34:13.703621: I tensorflow/core/platform/cpu_feature_guard.cc:210] This TensorFlow binary is optimized to use available CPU instructions in performance-critical operations.\n",
      "To enable the following instructions: AVX2 AVX_VNNI FMA, in other operations, rebuild TensorFlow with the appropriate compiler flags.\n"
     ]
    }
   ],
   "source": [
    "import numpy as np\n",
    "import sys\n",
    "from pathlib import Path\n",
    "import tensorflow as tf\n",
    "from tensorflow import keras\n",
    "from tensorflow.keras import layers, initializers, callbacks"
   ]
  },
  {
   "cell_type": "code",
   "execution_count": 2,
   "metadata": {},
   "outputs": [],
   "source": [
    "\n",
    "# add:\n",
    "sys.path.append(\"/home/gheorghe/Desktop/s_AI/deep_learning/callbacks/save_generated_text/code\")\n",
    "\n",
    "def remove_modules(modules_name, *arg):\n",
    "    if (modules_name in sys.modules):\n",
    "        del sys.modules[modules_name]\n",
    "        for key in arg:\n",
    "            tmp_modules = \"{}.{}\".format(modules_name, key)\n",
    "            if (tmp_modules in sys.modules):\n",
    "                del sys.modules[tmp_modules]"
   ]
  },
  {
   "cell_type": "code",
   "execution_count": 3,
   "metadata": {},
   "outputs": [],
   "source": [
    "\n",
    "remove_modules(\"save_by_prompts\")\n",
    "\n",
    "from save_by_prompts import *"
   ]
  },
  {
   "cell_type": "markdown",
   "metadata": {},
   "source": [
    "# Const"
   ]
  },
  {
   "cell_type": "code",
   "execution_count": 4,
   "metadata": {},
   "outputs": [],
   "source": [
    "BATCH_SIZE = 1\n",
    "VOCAB_SIZE = 20000  # Only consider the top 20k words\n",
    "SEQ_SIZE   = 80  # Max sequence size\n",
    "EMBEDD_DIM = 256  # Embedding size for each token\n",
    "NUM_HEADS  = 2  # Number of attention heads\n",
    "FEED_FORWARD_DIM = 256  # Hidden layer size in feed forward network inside transformer\n",
    "GROUP_SIZE = 16"
   ]
  },
  {
   "cell_type": "markdown",
   "metadata": {},
   "source": [
    "# Path"
   ]
  },
  {
   "cell_type": "code",
   "execution_count": 5,
   "metadata": {},
   "outputs": [],
   "source": [
    "\n",
    "DATASET_PATH  = \"/media/gheorghe/LaCie/data/NLP_dataset\"\n",
    "LOG_PATH = \"/home/gheorghe/Desktop/s_AI/deep_learning/callbacks/save_generated_text/test/log\""
   ]
  },
  {
   "cell_type": "markdown",
   "metadata": {},
   "source": [
    "# Data aquisition"
   ]
  },
  {
   "cell_type": "code",
   "execution_count": 6,
   "metadata": {},
   "outputs": [],
   "source": [
    "\n",
    "def custom_standardization(input_string):\n",
    "    \"\"\" Remove html line-break tags and handle punctuation \"\"\"\n",
    "    lowercased = tf.strings.lower(input_string)\n",
    "    stripped_html = tf.strings.regex_replace(lowercased, \"<br />\", \" \")\n",
    "    #stripped_html = tf.strings.regex_replace(stripped_html, f\"([{string.punctuation}])\", r\" \\1\")\n",
    "    return stripped_html\n"
   ]
  },
  {
   "cell_type": "code",
   "execution_count": 7,
   "metadata": {},
   "outputs": [
    {
     "name": "stdout",
     "output_type": "stream",
     "text": [
      "/media/gheorghe/LaCie/data/NLP_dataset\n",
      "/media/gheorghe/LaCie/data/NLP_dataset/aclImdb/train/pos\n",
      "12500 files\n"
     ]
    }
   ],
   "source": [
    "# The dataset contains each review in a separate text file\n",
    "# The text files are present in four different folders\n",
    "# Create a list all files\n",
    "filenames = []\n",
    "directories = [\n",
    "    \"aclImdb/train/pos\",\n",
    "]\n",
    "path = Path(DATASET_PATH)\n",
    "print(path)\n",
    "for dir in directories:\n",
    "    tmp_path = path.joinpath(dir)\n",
    "    print(tmp_path)\n",
    "    for f in tmp_path.iterdir():\n",
    "        filenames.append(f)\n",
    "\n",
    "print(f\"{len(filenames)} files\")\n",
    "filenames = filenames[:100]"
   ]
  },
  {
   "cell_type": "code",
   "execution_count": 8,
   "metadata": {},
   "outputs": [
    {
     "name": "stderr",
     "output_type": "stream",
     "text": [
      "I0000 00:00:1749558862.252647   45733 gpu_device.cc:2022] Created device /job:localhost/replica:0/task:0/device:GPU:0 with 21616 MB memory:  -> device: 0, name: NVIDIA GeForce RTX 4090, pci bus id: 0000:01:00.0, compute capability: 8.9\n",
      "2025-06-10 15:34:22.604599: I tensorflow/core/framework/local_rendezvous.cc:405] Local rendezvous is aborting with status: OUT_OF_RANGE: End of sequence\n"
     ]
    }
   ],
   "source": [
    "\n",
    "# Create a dataset from text files\n",
    "text_ds = tf.data.TextLineDataset(filenames)\n",
    "text_ds = text_ds.shuffle(buffer_size=256)\n",
    "text_ds = text_ds.batch(BATCH_SIZE)\n",
    "# Create a vectorization layer and adapt it to the text\n",
    "vectorize_layer = layers.TextVectorization(\n",
    "    standardize=custom_standardization,\n",
    "    max_tokens=VOCAB_SIZE - 1,\n",
    "    output_mode=\"int\",\n",
    "    output_sequence_length=SEQ_SIZE + 1,\n",
    ")\n",
    "vectorize_layer.adapt(text_ds)\n",
    "vocab = vectorize_layer.get_vocabulary()  # To get words back from token indices\n",
    "\n",
    "VOCAB_SIZE = min(VOCAB_SIZE, len(vocab))  # Only consider the top 20k words"
   ]
  },
  {
   "cell_type": "code",
   "execution_count": null,
   "metadata": {},
   "outputs": [],
   "source": [
    "for x in text_ds.take(1):\n",
    "    print(x)"
   ]
  },
  {
   "cell_type": "markdown",
   "metadata": {},
   "source": [
    "# Make model"
   ]
  },
  {
   "cell_type": "code",
   "execution_count": 9,
   "metadata": {},
   "outputs": [],
   "source": [
    "\n",
    "in_sequence = layers.Input(shape=(SEQ_SIZE, ), dtype=tf.int32, name=\"Sequence\")\n",
    "x_token = layers.Reshape(target_shape=(SEQ_SIZE, 1), name=\"Reshape\")(in_sequence)\n",
    "x_token = layers.Dense(EMBEDD_DIM, activation=None, use_bias=False, name=\"Dense\")(x_token)\n",
    "# out\n",
    "x_token = layers.Dense(VOCAB_SIZE, activation=None, use_bias=False, name=\"DenseOut\")(x_token)\n",
    "assert (x_token.shape == (None, SEQ_SIZE, VOCAB_SIZE)), \"the size is {}\".format(x_token.shape)\n",
    "x_token = layers.Softmax(axis=-1, name=\"OUT\")(x_token)\n",
    "# get model\n",
    "model = keras.Model(inputs=in_sequence, \n",
    "                 outputs=x_token,\n",
    "                 name=\"Generator\"\n",
    "              )"
   ]
  },
  {
   "cell_type": "code",
   "execution_count": null,
   "metadata": {},
   "outputs": [],
   "source": [
    "\n",
    "model(np.ones((1, SEQ_SIZE), dtype=np.float32))"
   ]
  },
  {
   "cell_type": "markdown",
   "metadata": {},
   "source": [
    "# Make callback"
   ]
  },
  {
   "cell_type": "code",
   "execution_count": 10,
   "metadata": {
    "scrolled": true
   },
   "outputs": [],
   "source": [
    "\n",
    "start_prompts = [\"this movie is\", \"film\", \"documentary\", \"horrible\", \"story\", \"play\", \"actors\", \n",
    "                 \"characters\", \"director\", \"script\"]"
   ]
  },
  {
   "cell_type": "code",
   "execution_count": 11,
   "metadata": {},
   "outputs": [],
   "source": [
    "\n",
    "callback = SaveByPrompts(LOG_PATH, vocab, SEQ_SIZE, max_tokens=20, start_prompts=start_prompts, \n",
    "                          top_k=10, print_every=1, number_of_gen_example=2)\n",
    "callback.set_model(model)"
   ]
  },
  {
   "cell_type": "code",
   "execution_count": 13,
   "metadata": {},
   "outputs": [],
   "source": [
    "callback.on_epoch_end(1)"
   ]
  },
  {
   "cell_type": "code",
   "execution_count": null,
   "metadata": {},
   "outputs": [],
   "source": []
  }
 ],
 "metadata": {
  "colab": {
   "authorship_tag": "ABX9TyNj2MY0gt2EzEUPsvH0YYrI",
   "collapsed_sections": [
    "sTZttAI6TejI",
    "oJDlxHT4Bg21",
    "J1uPtqKH86IA",
    "dV6zdNHs83OV",
    "Q19fslI17eqV",
    "Bv-g_AWU9zgM",
    "_I375C7wEbNl",
    "l5j3A1IbLnwo",
    "uZS2c9jTLsO8",
    "PlHalka5Lx5r",
    "5B1_MKfhL19W",
    "GvT0KEzVL5aO",
    "sJATRDP1AJlu",
    "wRIYnDuEhs8u",
    "Y6dZ_QTEmRhy",
    "vSJutDAnEpFp",
    "QdUq33lkWrHS",
    "rJyy0iHPguoY",
    "W8nxWc-PAojJ",
    "Wbn9X3Rj3PgU",
    "fSVpRicw6B5r"
   ],
   "name": "",
   "version": ""
  },
  "kernelspec": {
   "display_name": "Python 3 (ipykernel)",
   "language": "python",
   "name": "python3"
  },
  "language_info": {
   "codemirror_mode": {
    "name": "ipython",
    "version": 3
   },
   "file_extension": ".py",
   "mimetype": "text/x-python",
   "name": "python",
   "nbconvert_exporter": "python",
   "pygments_lexer": "ipython3",
   "version": "3.10.12"
  },
  "widgets": {
   "application/vnd.jupyter.widget-state+json": {
    "state": {},
    "version_major": 2,
    "version_minor": 0
   }
  }
 },
 "nbformat": 4,
 "nbformat_minor": 4
}
