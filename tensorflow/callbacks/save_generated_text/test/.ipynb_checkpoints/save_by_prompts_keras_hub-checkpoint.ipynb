{
 "cells": [
  {
   "cell_type": "markdown",
   "metadata": {},
   "source": [
    "# Setup"
   ]
  },
  {
   "cell_type": "code",
   "execution_count": 1,
   "metadata": {},
   "outputs": [
    {
     "name": "stderr",
     "output_type": "stream",
     "text": [
      "2025-08-11 15:47:13.420323: I tensorflow/core/util/port.cc:153] oneDNN custom operations are on. You may see slightly different numerical results due to floating-point round-off errors from different computation orders. To turn them off, set the environment variable `TF_ENABLE_ONEDNN_OPTS=0`.\n",
      "2025-08-11 15:47:13.427343: E external/local_xla/xla/stream_executor/cuda/cuda_fft.cc:467] Unable to register cuFFT factory: Attempting to register factory for plugin cuFFT when one has already been registered\n",
      "WARNING: All log messages before absl::InitializeLog() is called are written to STDERR\n",
      "E0000 00:00:1754916433.435145   21703 cuda_dnn.cc:8579] Unable to register cuDNN factory: Attempting to register factory for plugin cuDNN when one has already been registered\n",
      "E0000 00:00:1754916433.437518   21703 cuda_blas.cc:1407] Unable to register cuBLAS factory: Attempting to register factory for plugin cuBLAS when one has already been registered\n",
      "W0000 00:00:1754916433.443681   21703 computation_placer.cc:177] computation placer already registered. Please check linkage and avoid linking the same target more than once.\n",
      "W0000 00:00:1754916433.443689   21703 computation_placer.cc:177] computation placer already registered. Please check linkage and avoid linking the same target more than once.\n",
      "W0000 00:00:1754916433.443690   21703 computation_placer.cc:177] computation placer already registered. Please check linkage and avoid linking the same target more than once.\n",
      "W0000 00:00:1754916433.443690   21703 computation_placer.cc:177] computation placer already registered. Please check linkage and avoid linking the same target more than once.\n",
      "2025-08-11 15:47:13.447017: I tensorflow/core/platform/cpu_feature_guard.cc:210] This TensorFlow binary is optimized to use available CPU instructions in performance-critical operations.\n",
      "To enable the following instructions: AVX2 AVX_VNNI FMA, in other operations, rebuild TensorFlow with the appropriate compiler flags.\n"
     ]
    }
   ],
   "source": [
    "import numpy as np\n",
    "import sys\n",
    "from pathlib import Path\n",
    "import tensorflow as tf\n",
    "from tensorflow import keras\n",
    "from tensorflow.keras import layers\n",
    "from transformers import BertTokenizer\n",
    "import keras_hub"
   ]
  },
  {
   "cell_type": "code",
   "execution_count": 2,
   "metadata": {},
   "outputs": [],
   "source": [
    "\n",
    "p = Path()\n",
    "LOCAL_PATH = str(p.cwd().parent.parent)\n",
    "SAVE_PATH  = str(p.cwd().parent.joinpath(\"test\", \"MODEL\"))\n",
    "LOG_PATH   = str(p.cwd().parent.joinpath(\"test\", \"log\"))\n",
    "\n",
    "DATASET_PATH  = \"/media/gheorghe/LaCie/data/NLP_dataset\""
   ]
  },
  {
   "cell_type": "code",
   "execution_count": 3,
   "metadata": {},
   "outputs": [
    {
     "data": {
      "text/plain": [
       "'/home/gheorghe/Desktop/s_AI/shared_deep_learning/tensorflow/callbacks'"
      ]
     },
     "execution_count": 3,
     "metadata": {},
     "output_type": "execute_result"
    }
   ],
   "source": [
    "LOCAL_PATH"
   ]
  },
  {
   "cell_type": "code",
   "execution_count": 4,
   "metadata": {},
   "outputs": [],
   "source": [
    "\n",
    "# adding local_folder to the system path\n",
    "sys.path.append(LOCAL_PATH)\n",
    "\n",
    "def remove_modules(modules_name, *arg):\n",
    "    if (modules_name in sys.modules):\n",
    "        del sys.modules[modules_name]\n",
    "        for key in arg:\n",
    "            tmp_modules = \"{}.{}\".format(modules_name, key)\n",
    "            if (tmp_modules in sys.modules):\n",
    "                del sys.modules[tmp_modules]"
   ]
  },
  {
   "cell_type": "code",
   "execution_count": 5,
   "metadata": {},
   "outputs": [],
   "source": [
    "\n",
    "remove_modules(\"save_generated_text\", \"code\", \"save_by_prompts_keras_hub\")\n",
    "\n",
    "from save_generated_text.code.save_by_prompts_keras_hub import *"
   ]
  },
  {
   "cell_type": "markdown",
   "metadata": {
    "jp-MarkdownHeadingCollapsed": true
   },
   "source": [
    "# Const"
   ]
  },
  {
   "cell_type": "code",
   "execution_count": 9,
   "metadata": {},
   "outputs": [],
   "source": [
    "BATCH_SIZE = 1\n",
    "SEQ_SIZE   = 80  # Max sequence size\n",
    "EMBEDD_DIM = 256  # Embedding size for each token\n",
    "NUM_HEADS  = 2  # Number of attention heads\n",
    "FEED_FORWARD_DIM = 256  # Hidden layer size in feed forward network inside transformer\n",
    "GROUP_SIZE = 16"
   ]
  },
  {
   "cell_type": "markdown",
   "metadata": {
    "jp-MarkdownHeadingCollapsed": true
   },
   "source": [
    "# Data aquisition"
   ]
  },
  {
   "cell_type": "code",
   "execution_count": 6,
   "metadata": {},
   "outputs": [
    {
     "name": "stderr",
     "output_type": "stream",
     "text": [
      "I0000 00:00:1754916443.047288   21703 gpu_device.cc:2019] Created device /job:localhost/replica:0/task:0/device:GPU:0 with 21672 MB memory:  -> device: 0, name: NVIDIA GeForce RTX 4090, pci bus id: 0000:01:00.0, compute capability: 8.9\n"
     ]
    }
   ],
   "source": [
    "\n",
    "# Initialize the tokenizer for a pre-trained BERT model\n",
    "# 'bert-base-uncased' is a common BERT model that uses WordPiece\n",
    "tokenizer = BertTokenizer.from_pretrained(\"bert-base-uncased\")\n",
    "# select out the top k most probable tokens,\n",
    "sampler   = keras_hub.samplers.RandomSampler()\n",
    "# \n",
    "VOCAB_SIZE = tokenizer.vocab_size  # Consider all size words"
   ]
  },
  {
   "cell_type": "code",
   "execution_count": 7,
   "metadata": {},
   "outputs": [
    {
     "data": {
      "text/plain": [
       "0"
      ]
     },
     "execution_count": 7,
     "metadata": {},
     "output_type": "execute_result"
    }
   ],
   "source": [
    "tokenizer.vocab.get(\"[PAD]\")"
   ]
  },
  {
   "cell_type": "markdown",
   "metadata": {
    "jp-MarkdownHeadingCollapsed": true
   },
   "source": [
    "# Make model"
   ]
  },
  {
   "cell_type": "code",
   "execution_count": 10,
   "metadata": {},
   "outputs": [],
   "source": [
    "\n",
    "in_sequence = layers.Input(shape=(SEQ_SIZE, ), dtype=tf.int32, name=\"Sequence\")\n",
    "x_token = layers.Reshape(target_shape=(SEQ_SIZE, 1), name=\"Reshape\")(in_sequence)\n",
    "x_token = layers.Dense(EMBEDD_DIM, activation=None, use_bias=False, name=\"Dense\")(x_token)\n",
    "# out\n",
    "x_token = layers.Dense(VOCAB_SIZE, activation=None, use_bias=False, name=\"DenseOut\")(x_token)\n",
    "assert (x_token.shape == (None, SEQ_SIZE, VOCAB_SIZE)), \"the size is {}\".format(x_token.shape)\n",
    "x_token = layers.Softmax(axis=-1, name=\"OUT\")(x_token)\n",
    "# get model\n",
    "model = keras.Model(inputs=in_sequence, \n",
    "                 outputs=x_token,\n",
    "                 name=\"Generator\"\n",
    "              )"
   ]
  },
  {
   "cell_type": "code",
   "execution_count": 11,
   "metadata": {},
   "outputs": [
    {
     "data": {
      "text/plain": [
       "<tf.Tensor: shape=(1, 80, 30522), dtype=float32, numpy=\n",
       "array([[[3.2688473e-05, 3.2748296e-05, 3.3084067e-05, ...,\n",
       "         3.2107739e-05, 3.2391461e-05, 3.2085100e-05],\n",
       "        [3.2688473e-05, 3.2748296e-05, 3.3084067e-05, ...,\n",
       "         3.2107739e-05, 3.2391461e-05, 3.2085100e-05],\n",
       "        [3.2688473e-05, 3.2748296e-05, 3.3084067e-05, ...,\n",
       "         3.2107739e-05, 3.2391461e-05, 3.2085100e-05],\n",
       "        ...,\n",
       "        [3.2688473e-05, 3.2748296e-05, 3.3084067e-05, ...,\n",
       "         3.2107739e-05, 3.2391461e-05, 3.2085100e-05],\n",
       "        [3.2688473e-05, 3.2748296e-05, 3.3084067e-05, ...,\n",
       "         3.2107739e-05, 3.2391461e-05, 3.2085100e-05],\n",
       "        [3.2688473e-05, 3.2748296e-05, 3.3084067e-05, ...,\n",
       "         3.2107739e-05, 3.2391461e-05, 3.2085100e-05]]], dtype=float32)>"
      ]
     },
     "execution_count": 11,
     "metadata": {},
     "output_type": "execute_result"
    }
   ],
   "source": [
    "\n",
    "model(np.ones((1, SEQ_SIZE), dtype=np.float32))"
   ]
  },
  {
   "cell_type": "code",
   "execution_count": 12,
   "metadata": {},
   "outputs": [],
   "source": [
    "def next(prompt, cache, index):\n",
    "    logits = model(prompt)[:, index - 1, :]\n",
    "    # Ignore hidden states for now; only needed for contrastive search.\n",
    "    hidden_states = None\n",
    "    return logits, hidden_states, cache\n"
   ]
  },
  {
   "cell_type": "code",
   "execution_count": 13,
   "metadata": {},
   "outputs": [
    {
     "name": "stderr",
     "output_type": "stream",
     "text": [
      "WARNING: All log messages before absl::InitializeLog() is called are written to STDERR\n",
      "I0000 00:00:1754916481.512479   21703 service.cc:152] XLA service 0x5967bbf38990 initialized for platform CUDA (this does not guarantee that XLA will be used). Devices:\n",
      "I0000 00:00:1754916481.512491   21703 service.cc:160]   StreamExecutor device (0): NVIDIA GeForce RTX 4090, Compute Capability 8.9\n",
      "I0000 00:00:1754916481.517349   21703 cuda_dnn.cc:529] Loaded cuDNN version 90300\n",
      "I0000 00:00:1754916481.580230   21703 device_compiler.h:188] Compiled cluster using XLA!  This line is logged at most once for the lifetime of the process.\n"
     ]
    },
    {
     "name": "stdout",
     "output_type": "stream",
     "text": [
      "Greedy search generated text: \n",
      "this movie is adds adds adds adds adds adds adds adds adds adds adds adds adds adds adds adds adds adds adds adds adds adds adds adds adds adds adds adds adds adds adds adds adds adds adds adds adds adds adds adds adds adds adds adds adds adds adds adds adds adds adds adds adds adds adds adds adds adds adds adds adds adds adds adds adds adds adds adds adds adds adds adds adds adds adds adds\n",
      "\n"
     ]
    }
   ],
   "source": [
    "\n",
    "# Tokenize the text\n",
    "prompt_tokens = tokenizer(\n",
    "                          \"this movie is\",\n",
    "                          add_special_tokens=True,\n",
    "                          max_length=SEQ_SIZE,  # Example max length\n",
    "                          padding=\"max_length\",\n",
    "                          truncation=True,\n",
    "                          return_tensors=\"tf\"\n",
    "                      )[\"input_ids\"]\n",
    "\n",
    "sampler = keras_hub.samplers.GreedySampler()\n",
    "output_tokens = sampler(\n",
    "    next=next,\n",
    "    prompt=prompt_tokens,\n",
    "    index=4,  # Start sampling immediately after the [BOS] token.\n",
    ")\n",
    "txt = tokenizer.decode(output_tokens[0], skip_special_tokens=True)\n",
    "print(f\"Greedy search generated text: \\n{txt}\\n\")\n"
   ]
  },
  {
   "cell_type": "code",
   "execution_count": null,
   "metadata": {},
   "outputs": [],
   "source": []
  },
  {
   "cell_type": "markdown",
   "metadata": {},
   "source": [
    "# Make callback"
   ]
  },
  {
   "cell_type": "code",
   "execution_count": 14,
   "metadata": {
    "scrolled": true
   },
   "outputs": [],
   "source": [
    "\n",
    "prompts = [\"this movie is\", \"film\", \"documentary\", \"horrible\", \"story\", \"play\", \"actors\", \n",
    "                 \"characters\", \"director\", \"script\"]\n"
   ]
  },
  {
   "cell_type": "code",
   "execution_count": 15,
   "metadata": {},
   "outputs": [],
   "source": [
    "\n",
    "callback = SaveByPromptsKerasHub(LOG_PATH, tokenizer, sampler, prompts, SEQ_SIZE)\n",
    "callback.set_model(model)"
   ]
  },
  {
   "cell_type": "code",
   "execution_count": 16,
   "metadata": {},
   "outputs": [],
   "source": [
    "callback.on_epoch_end(0)"
   ]
  },
  {
   "cell_type": "code",
   "execution_count": null,
   "metadata": {},
   "outputs": [],
   "source": []
  }
 ],
 "metadata": {
  "colab": {
   "authorship_tag": "ABX9TyNj2MY0gt2EzEUPsvH0YYrI",
   "collapsed_sections": [
    "sTZttAI6TejI",
    "oJDlxHT4Bg21",
    "J1uPtqKH86IA",
    "dV6zdNHs83OV",
    "Q19fslI17eqV",
    "Bv-g_AWU9zgM",
    "_I375C7wEbNl",
    "l5j3A1IbLnwo",
    "uZS2c9jTLsO8",
    "PlHalka5Lx5r",
    "5B1_MKfhL19W",
    "GvT0KEzVL5aO",
    "sJATRDP1AJlu",
    "wRIYnDuEhs8u",
    "Y6dZ_QTEmRhy",
    "vSJutDAnEpFp",
    "QdUq33lkWrHS",
    "rJyy0iHPguoY",
    "W8nxWc-PAojJ",
    "Wbn9X3Rj3PgU",
    "fSVpRicw6B5r"
   ],
   "name": "",
   "version": ""
  },
  "kernelspec": {
   "display_name": "Python 3 (ipykernel)",
   "language": "python",
   "name": "python3"
  },
  "language_info": {
   "codemirror_mode": {
    "name": "ipython",
    "version": 3
   },
   "file_extension": ".py",
   "mimetype": "text/x-python",
   "name": "python",
   "nbconvert_exporter": "python",
   "pygments_lexer": "ipython3",
   "version": "3.10.12"
  },
  "widgets": {
   "application/vnd.jupyter.widget-state+json": {
    "state": {},
    "version_major": 2,
    "version_minor": 0
   }
  }
 },
 "nbformat": 4,
 "nbformat_minor": 4
}
