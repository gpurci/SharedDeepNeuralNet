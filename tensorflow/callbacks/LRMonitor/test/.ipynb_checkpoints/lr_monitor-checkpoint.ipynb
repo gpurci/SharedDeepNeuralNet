{
 "cells": [
  {
   "cell_type": "markdown",
   "metadata": {},
   "source": [
    "# Import layers"
   ]
  },
  {
   "cell_type": "code",
   "execution_count": 30,
   "metadata": {},
   "outputs": [],
   "source": [
    "import numpy as np\n",
    "import seaborn as sns\n",
    "import pandas as pd\n",
    "# importing sys\n",
    "import sys\n",
    "from pathlib import Path\n",
    "import tensorflow as tf\n",
    "from tensorflow import keras\n",
    "from tensorflow.keras import layers, optimizers\n"
   ]
  },
  {
   "cell_type": "code",
   "execution_count": 14,
   "metadata": {},
   "outputs": [],
   "source": [
    "\n",
    "p = Path()\n",
    "LOCAL_PATH = str(p.cwd().parent.parent)\n",
    "SAVE_PATH  = str(p.cwd().parent.joinpath(\"test\", \"MODEL\", \"test_model.csv\"))"
   ]
  },
  {
   "cell_type": "code",
   "execution_count": 3,
   "metadata": {},
   "outputs": [
    {
     "data": {
      "text/plain": [
       "'/home/gheorghe/Desktop/s_AI/shared_deep_learning/tensorflow/callbacks'"
      ]
     },
     "execution_count": 3,
     "metadata": {},
     "output_type": "execute_result"
    }
   ],
   "source": [
    "LOCAL_PATH"
   ]
  },
  {
   "cell_type": "code",
   "execution_count": 7,
   "metadata": {},
   "outputs": [],
   "source": [
    "\n",
    "# adding local_folder to the system path\n",
    "sys.path.append(LOCAL_PATH)\n",
    "\n",
    "def remove_modules(modules_name, *arg):\n",
    "    if (modules_name in sys.modules):\n",
    "        del sys.modules[modules_name]\n",
    "        for key in arg:\n",
    "            tmp_modules = \"{}.{}\".format(modules_name, key)\n",
    "            if (tmp_modules in sys.modules):\n",
    "                del sys.modules[tmp_modules]"
   ]
  },
  {
   "cell_type": "code",
   "execution_count": 8,
   "metadata": {},
   "outputs": [],
   "source": [
    "\n",
    "remove_modules(\"LRMonitor.code\", \"lr_monitor\")\n",
    "\n",
    "from LRMonitor.code.lr_monitor import *"
   ]
  },
  {
   "cell_type": "markdown",
   "metadata": {},
   "source": [
    "# Make model"
   ]
  },
  {
   "cell_type": "code",
   "execution_count": 9,
   "metadata": {},
   "outputs": [
    {
     "name": "stderr",
     "output_type": "stream",
     "text": [
      "I0000 00:00:1754918619.619720   39789 gpu_device.cc:2019] Created device /job:localhost/replica:0/task:0/device:GPU:0 with 21614 MB memory:  -> device: 0, name: NVIDIA GeForce RTX 4090, pci bus id: 0000:01:00.0, compute capability: 8.9\n"
     ]
    }
   ],
   "source": [
    "\n",
    "in_input = layers.Input(shape=(14, 14, 3), dtype=tf.int32, name=\"Input\")\n",
    "x_data = layers.Dense(1, activation=None, use_bias=False, name=\"Dense\")(in_input)\n",
    "# get model\n",
    "model = keras.Model(inputs=in_input, \n",
    "                 outputs=x_data,\n",
    "                 name=\"Model_test\"\n",
    "              )"
   ]
  },
  {
   "cell_type": "code",
   "execution_count": 47,
   "metadata": {},
   "outputs": [],
   "source": [
    "\n",
    "class LR_schedule(optimizers.schedules.LearningRateSchedule):\n",
    "    def __init__(self):\n",
    "        super().__init__()\n",
    "        self.step = 0\n",
    "\n",
    "    def __call__(self, step):\n",
    "        print(\"Step \", step.numpy())\n",
    "        self.step += 1 + step\n",
    "        return self.step\n",
    "\n",
    "optimizer_fn = keras.optimizers.Adam(\n",
    "                                        learning_rate=LR_schedule(),\n",
    "                                        beta_1=0.9,\n",
    "                                        beta_2=0.999,\n",
    "                                        epsilon=1e-07,\n",
    "                                        name=\"Adam\",\n",
    "                                    )\n",
    "\n",
    "model.compile(optimizer=optimizer_fn, \n",
    "                 loss=None, \n",
    "                 metrics=None)"
   ]
  },
  {
   "cell_type": "markdown",
   "metadata": {},
   "source": [
    "# Test callback"
   ]
  },
  {
   "cell_type": "code",
   "execution_count": 48,
   "metadata": {},
   "outputs": [],
   "source": [
    "callback = LrMonitor(SAVE_PATH)\n",
    "callback.set_model(model)"
   ]
  },
  {
   "cell_type": "code",
   "execution_count": 49,
   "metadata": {},
   "outputs": [
    {
     "name": "stdout",
     "output_type": "stream",
     "text": [
      "Step  0\n",
      "Step  0\n",
      "Step  0\n",
      "Step  0\n",
      "Step  0\n",
      "Step  0\n",
      "Step  0\n",
      "Step  0\n",
      "Step  0\n",
      "Step  0\n"
     ]
    },
    {
     "data": {
      "image/png": "[encoded data removed]",
      "text/plain": [
       "<Figure size 640x480 with 1 Axes>"
      ]
     },
     "metadata": {},
     "output_type": "display_data"
    }
   ],
   "source": [
    "for epoch in range(10):\n",
    "    callback.on_epoch_end(epoch)"
   ]
  }
 ],
 "metadata": {
  "colab": {
   "authorship_tag": "ABX9TyNj2MY0gt2EzEUPsvH0YYrI",
   "collapsed_sections": [
    "sTZttAI6TejI",
    "oJDlxHT4Bg21",
    "J1uPtqKH86IA",
    "dV6zdNHs83OV",
    "Q19fslI17eqV",
    "Bv-g_AWU9zgM",
    "_I375C7wEbNl",
    "l5j3A1IbLnwo",
    "uZS2c9jTLsO8",
    "PlHalka5Lx5r",
    "5B1_MKfhL19W",
    "GvT0KEzVL5aO",
    "sJATRDP1AJlu",
    "wRIYnDuEhs8u",
    "Y6dZ_QTEmRhy",
    "vSJutDAnEpFp",
    "QdUq33lkWrHS",
    "rJyy0iHPguoY",
    "W8nxWc-PAojJ",
    "Wbn9X3Rj3PgU",
    "fSVpRicw6B5r"
   ],
   "name": "",
   "version": ""
  },
  "kernelspec": {
   "display_name": "Python 3 (ipykernel)",
   "language": "python",
   "name": "python3"
  },
  "language_info": {
   "codemirror_mode": {
    "name": "ipython",
    "version": 3
   },
   "file_extension": ".py",
   "mimetype": "text/x-python",
   "name": "python",
   "nbconvert_exporter": "python",
   "pygments_lexer": "ipython3",
   "version": "3.10.12"
  },
  "widgets": {
   "application/vnd.jupyter.widget-state+json": {
    "state": {},
    "version_major": 2,
    "version_minor": 0
   }
  }
 },
 "nbformat": 4,
 "nbformat_minor": 4
}
