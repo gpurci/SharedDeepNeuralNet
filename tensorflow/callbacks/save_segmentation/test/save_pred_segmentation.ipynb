{
 "cells": [
  {
   "cell_type": "markdown",
   "metadata": {
    "jp-MarkdownHeadingCollapsed": true
   },
   "source": [
    "# Import layers"
   ]
  },
  {
   "cell_type": "code",
   "execution_count": 1,
   "metadata": {},
   "outputs": [
    {
     "name": "stderr",
     "output_type": "stream",
     "text": [
      "2025-08-11 16:09:55.150703: I tensorflow/core/util/port.cc:153] oneDNN custom operations are on. You may see slightly different numerical results due to floating-point round-off errors from different computation orders. To turn them off, set the environment variable `TF_ENABLE_ONEDNN_OPTS=0`.\n",
      "2025-08-11 16:09:55.157954: E external/local_xla/xla/stream_executor/cuda/cuda_fft.cc:467] Unable to register cuFFT factory: Attempting to register factory for plugin cuFFT when one has already been registered\n",
      "WARNING: All log messages before absl::InitializeLog() is called are written to STDERR\n",
      "E0000 00:00:1754917795.166474   37869 cuda_dnn.cc:8579] Unable to register cuDNN factory: Attempting to register factory for plugin cuDNN when one has already been registered\n",
      "E0000 00:00:1754917795.168936   37869 cuda_blas.cc:1407] Unable to register cuBLAS factory: Attempting to register factory for plugin cuBLAS when one has already been registered\n",
      "W0000 00:00:1754917795.175662   37869 computation_placer.cc:177] computation placer already registered. Please check linkage and avoid linking the same target more than once.\n",
      "W0000 00:00:1754917795.175671   37869 computation_placer.cc:177] computation placer already registered. Please check linkage and avoid linking the same target more than once.\n",
      "W0000 00:00:1754917795.175672   37869 computation_placer.cc:177] computation placer already registered. Please check linkage and avoid linking the same target more than once.\n",
      "W0000 00:00:1754917795.175672   37869 computation_placer.cc:177] computation placer already registered. Please check linkage and avoid linking the same target more than once.\n",
      "2025-08-11 16:09:55.178449: I tensorflow/core/platform/cpu_feature_guard.cc:210] This TensorFlow binary is optimized to use available CPU instructions in performance-critical operations.\n",
      "To enable the following instructions: AVX2 AVX_VNNI FMA, in other operations, rebuild TensorFlow with the appropriate compiler flags.\n"
     ]
    }
   ],
   "source": [
    "import numpy as np\n",
    "from tensorflow.keras import layers, Input,  Model\n",
    "import sys\n",
    "from pathlib import Path"
   ]
  },
  {
   "cell_type": "code",
   "execution_count": 2,
   "metadata": {},
   "outputs": [
    {
     "name": "stdout",
     "output_type": "stream",
     "text": [
      "local path: /home/gheorghe/Desktop/s_AI/shared_deep_learning/tensorflow/callbacks\n"
     ]
    }
   ],
   "source": [
    "\n",
    "p = Path()\n",
    "LOCAL_PATH = str(p.cwd().parent.parent)\n",
    "SAVE_PATH  = str(p.cwd().parent.joinpath(\"test\", \"generate\"))\n",
    "DATASET_PATH = str(p.cwd().parent.joinpath(\"test\", \"dataset\"))\n",
    "print(\"local path: {}\".format(LOCAL_PATH))"
   ]
  },
  {
   "cell_type": "code",
   "execution_count": 3,
   "metadata": {},
   "outputs": [],
   "source": [
    "\n",
    "# adding local_folder to the system path\n",
    "sys.path.append(LOCAL_PATH)\n",
    "\n",
    "def remove_modules(modules_name, *arg):\n",
    "    if (modules_name in sys.modules):\n",
    "        del sys.modules[modules_name]\n",
    "        for key in arg:\n",
    "            tmp_modules = \"{}.{}\".format(modules_name, key)\n",
    "            if (tmp_modules in sys.modules):\n",
    "                del sys.modules[tmp_modules]"
   ]
  },
  {
   "cell_type": "code",
   "execution_count": 4,
   "metadata": {},
   "outputs": [],
   "source": [
    "\n",
    "remove_modules(\"save_segmentation.code\", \"save_segmentation\")\n",
    "\n",
    "from save_segmentation.code.save_segmentation import *"
   ]
  },
  {
   "cell_type": "markdown",
   "metadata": {
    "jp-MarkdownHeadingCollapsed": true
   },
   "source": [
    "# Make model"
   ]
  },
  {
   "cell_type": "code",
   "execution_count": 5,
   "metadata": {},
   "outputs": [
    {
     "name": "stderr",
     "output_type": "stream",
     "text": [
      "I0000 00:00:1754917807.004005   37869 gpu_device.cc:2019] Created device /job:localhost/replica:0/task:0/device:GPU:0 with 21602 MB memory:  -> device: 0, name: NVIDIA GeForce RTX 4090, pci bus id: 0000:01:00.0, compute capability: 8.9\n"
     ]
    }
   ],
   "source": [
    "\n",
    "inputs  = Input(shape=(224, 224, 3))\n",
    "outputs = layers.Dense(1, \n",
    "                        activation=None,\n",
    "                        name=\"dense\",\n",
    "                    )(inputs)\n",
    "outputs = layers.Resizing(\n",
    "                height=56,\n",
    "                width=56,\n",
    "                interpolation=\"bilinear\",\n",
    "                crop_to_aspect_ratio=False,\n",
    "                pad_to_aspect_ratio=False,\n",
    "                fill_mode=\"constant\",\n",
    "                fill_value=0.0,\n",
    "                data_format=None,\n",
    "            )(outputs)\n",
    "\n",
    "model = Model(inputs, outputs)"
   ]
  },
  {
   "cell_type": "code",
   "execution_count": 6,
   "metadata": {
    "scrolled": true
   },
   "outputs": [
    {
     "data": {
      "text/plain": [
       "<tf.Tensor: shape=(1, 56, 56, 1), dtype=float32, numpy=\n",
       "array([[[[0.06422722],\n",
       "         [0.06422722],\n",
       "         [0.06422722],\n",
       "         ...,\n",
       "         [0.06422722],\n",
       "         [0.06422722],\n",
       "         [0.06422722]],\n",
       "\n",
       "        [[0.06422722],\n",
       "         [0.06422722],\n",
       "         [0.06422722],\n",
       "         ...,\n",
       "         [0.06422722],\n",
       "         [0.06422722],\n",
       "         [0.06422722]],\n",
       "\n",
       "        [[0.06422722],\n",
       "         [0.06422722],\n",
       "         [0.06422722],\n",
       "         ...,\n",
       "         [0.06422722],\n",
       "         [0.06422722],\n",
       "         [0.06422722]],\n",
       "\n",
       "        ...,\n",
       "\n",
       "        [[0.06422722],\n",
       "         [0.06422722],\n",
       "         [0.06422722],\n",
       "         ...,\n",
       "         [0.06422722],\n",
       "         [0.06422722],\n",
       "         [0.06422722]],\n",
       "\n",
       "        [[0.06422722],\n",
       "         [0.06422722],\n",
       "         [0.06422722],\n",
       "         ...,\n",
       "         [0.06422722],\n",
       "         [0.06422722],\n",
       "         [0.06422722]],\n",
       "\n",
       "        [[0.06422722],\n",
       "         [0.06422722],\n",
       "         [0.06422722],\n",
       "         ...,\n",
       "         [0.06422722],\n",
       "         [0.06422722],\n",
       "         [0.06422722]]]], dtype=float32)>"
      ]
     },
     "execution_count": 6,
     "metadata": {},
     "output_type": "execute_result"
    }
   ],
   "source": [
    "model(np.ones((1, 224, 224, 3)))"
   ]
  },
  {
   "cell_type": "markdown",
   "metadata": {},
   "source": [
    "# Build callback"
   ]
  },
  {
   "cell_type": "code",
   "execution_count": 7,
   "metadata": {},
   "outputs": [],
   "source": [
    "\n",
    "#(self, dataset_path, save_path, filenames, split_crop, bite, batch_size, alfa, beta, to_remove=False)\n",
    "filenames = [\"DJI_0111.png\", \"DJI_0117.png\"]"
   ]
  },
  {
   "cell_type": "code",
   "execution_count": 8,
   "metadata": {},
   "outputs": [],
   "source": [
    "callback  = SavePredSegmentation(DATASET_PATH, SAVE_PATH, filenames, \n",
    "                                split_crop=(224, 224), \n",
    "                                bite=16, down_size=4,\n",
    "                                batch_size=3, \n",
    "                                alfa=0.7, beta=0.3, to_remove=False)"
   ]
  },
  {
   "cell_type": "markdown",
   "metadata": {},
   "source": [
    "# Test callback"
   ]
  },
  {
   "cell_type": "code",
   "execution_count": 9,
   "metadata": {},
   "outputs": [],
   "source": [
    "callback.set_model(model)\n",
    "callback.on_epoch_end(0)"
   ]
  },
  {
   "cell_type": "code",
   "execution_count": null,
   "metadata": {},
   "outputs": [],
   "source": []
  }
 ],
 "metadata": {
  "colab": {
   "authorship_tag": "ABX9TyNj2MY0gt2EzEUPsvH0YYrI",
   "collapsed_sections": [
    "sTZttAI6TejI",
    "oJDlxHT4Bg21",
    "J1uPtqKH86IA",
    "dV6zdNHs83OV",
    "Q19fslI17eqV",
    "Bv-g_AWU9zgM",
    "_I375C7wEbNl",
    "l5j3A1IbLnwo",
    "uZS2c9jTLsO8",
    "PlHalka5Lx5r",
    "5B1_MKfhL19W",
    "GvT0KEzVL5aO",
    "sJATRDP1AJlu",
    "wRIYnDuEhs8u",
    "Y6dZ_QTEmRhy",
    "vSJutDAnEpFp",
    "QdUq33lkWrHS",
    "rJyy0iHPguoY",
    "W8nxWc-PAojJ",
    "Wbn9X3Rj3PgU",
    "fSVpRicw6B5r"
   ],
   "name": "",
   "version": ""
  },
  "kernelspec": {
   "display_name": "Python 3 (ipykernel)",
   "language": "python",
   "name": "python3"
  },
  "language_info": {
   "codemirror_mode": {
    "name": "ipython",
    "version": 3
   },
   "file_extension": ".py",
   "mimetype": "text/x-python",
   "name": "python",
   "nbconvert_exporter": "python",
   "pygments_lexer": "ipython3",
   "version": "3.10.12"
  },
  "widgets": {
   "application/vnd.jupyter.widget-state+json": {
    "state": {},
    "version_major": 2,
    "version_minor": 0
   }
  }
 },
 "nbformat": 4,
 "nbformat_minor": 4
}
